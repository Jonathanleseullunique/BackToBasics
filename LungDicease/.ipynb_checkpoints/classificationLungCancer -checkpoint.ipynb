{
 "cells": [
  {
   "cell_type": "code",
   "execution_count": 5,
   "id": "9fe17d29-81a2-44b2-9c92-9fbc65cb064b",
   "metadata": {},
   "outputs": [],
   "source": [
    "import os\n",
    "import numpy as np\n",
    "import pandas as pd"
   ]
  },
  {
   "cell_type": "code",
   "execution_count": 6,
   "id": "deb493e3-56da-4331-8e2e-3fb3849ff8da",
   "metadata": {},
   "outputs": [
    {
     "data": {
      "text/plain": [
       "['.ipynb_checkpoints',\n",
       " 'chest_Xray copy',\n",
       " 'chest_Xraytest',\n",
       " 'classificationLungCancer .ipynb',\n",
       " 'cleanAndResizePictures.py',\n",
       " 'moveToRightFolder.py']"
      ]
     },
     "execution_count": 6,
     "metadata": {},
     "output_type": "execute_result"
    }
   ],
   "source": [
    "listfile=os.listdir()\n",
    "listfile\n"
   ]
  },
  {
   "cell_type": "code",
   "execution_count": 10,
   "id": "21a3bd58-d5c2-4026-9f77-648ca2f3cd0d",
   "metadata": {},
   "outputs": [],
   "source": [
    "index=listfile.index('chest_Xraytest')"
   ]
  },
  {
   "cell_type": "code",
   "execution_count": 14,
   "id": "613ac14c-a04a-458e-aa6c-c4dddbe51e0d",
   "metadata": {},
   "outputs": [],
   "source": [
    "listfile[index]\n",
    "principalFolder=listfile[index]"
   ]
  },
  {
   "cell_type": "code",
   "execution_count": 19,
   "id": "f0a52300-91b4-4a76-965f-99af7fc8a79d",
   "metadata": {},
   "outputs": [
    {
     "name": "stdout",
     "output_type": "stream",
     "text": [
      "test\n"
     ]
    },
    {
     "ename": "AttributeError",
     "evalue": "'dict' object has no attribute 'append'",
     "output_type": "error",
     "traceback": [
      "\u001b[1;31m-----------------------------------------------------------\u001b[0m",
      "\u001b[1;31mAttributeError\u001b[0m            Traceback (most recent call last)",
      "Cell \u001b[1;32mIn[19], line 9\u001b[0m\n\u001b[0;32m      7\u001b[0m             \u001b[38;5;28;01mfor\u001b[39;00m picture \u001b[38;5;129;01min\u001b[39;00m  os\u001b[38;5;241m.\u001b[39mlistdir(principalFolder\u001b[38;5;241m+\u001b[39m\u001b[38;5;124m'\u001b[39m\u001b[38;5;124m/\u001b[39m\u001b[38;5;124m'\u001b[39m\u001b[38;5;241m+\u001b[39mfolders\u001b[38;5;241m+\u001b[39m\u001b[38;5;124m'\u001b[39m\u001b[38;5;124m/\u001b[39m\u001b[38;5;124m'\u001b[39m\u001b[38;5;241m+\u001b[39mfolder):\n\u001b[0;32m      8\u001b[0m                 \u001b[38;5;28;01mif\u001b[39;00m folders\u001b[38;5;241m==\u001b[39m\u001b[38;5;124m'\u001b[39m\u001b[38;5;124mtest\u001b[39m\u001b[38;5;124m'\u001b[39m:\n\u001b[1;32m----> 9\u001b[0m                     \u001b[43mdatatest\u001b[49m\u001b[38;5;241;43m.\u001b[39;49m\u001b[43mappend\u001b[49m({mainFolder:folders, ylabel:folder, pictures:picture}) \n\u001b[0;32m     10\u001b[0m datatest\n",
      "\u001b[1;31mAttributeError\u001b[0m: 'dict' object has no attribute 'append'"
     ]
    }
   ],
   "source": [
    "for folders in os.listdir(listfile[index]):\n",
    "    print(folders)\n",
    "    arrayMainfolders=[]\n",
    "    arrayYlabel=[]\n",
    "    arrayPicture=[]\n",
    "    datatest={'mainFolder':arrayMainfolders, 'ylabel': arrayYlabel,'pictures': arrayPicture}\n",
    "    for folder in os.listdir(principalFolder+'/'+folders):\n",
    "            if folder == \".DS_Store\":\n",
    "                continue    \n",
    "            for picture in  os.listdir(principalFolder+'/'+folders+'/'+folder):\n",
    "                if folders=='test':\n",
    "                    arrayMainfolders.append(folders)\n",
    "                    arrayYlabel.append(folder)\n",
    "                    arrayPicture.append(picture) \n",
    "datatest"
   ]
  }
 ],
 "metadata": {
  "kernelspec": {
   "display_name": "Python 3 (ipykernel)",
   "language": "python",
   "name": "python3"
  },
  "language_info": {
   "codemirror_mode": {
    "name": "ipython",
    "version": 3
   },
   "file_extension": ".py",
   "mimetype": "text/x-python",
   "name": "python",
   "nbconvert_exporter": "python",
   "pygments_lexer": "ipython3",
   "version": "3.9.19"
  }
 },
 "nbformat": 4,
 "nbformat_minor": 5
}
